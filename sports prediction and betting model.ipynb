{
 "cells": [
  {
   "cell_type": "markdown",
   "id": "a0e934ac-241a-40ef-bceb-06ae06cb0082",
   "metadata": {},
   "source": [
    "# **Sports Prediction and Betting Model**"
   ]
  },
  {
   "cell_type": "markdown",
   "id": "0ad9af35-2f33-4cb0-9eb2-464811110ff4",
   "metadata": {},
   "source": [
    " "
   ]
  },
  {
   "cell_type": "markdown",
   "id": "dc53d1cb-4f47-4c6e-aa7c-002aa36ca0a8",
   "metadata": {},
   "source": [
    "We provide a walkthorugh for testing a model for prediction of sports outcomes, specifically on Major League Baseball data from 2021-2024 seasons."
   ]
  },
  {
   "cell_type": "markdown",
   "id": "a0a349ff-4922-4a10-87be-36de64b7bb97",
   "metadata": {},
   "source": [
    "**Outline of the contents:** In *Section 1*, we load the required packages as well as the data. (Much of the data gathering and cleaning was already covered in a separate notebook.) *Section 2* provides the required functions for projected score difference calculation and for updating the original odds and scores dataframe with them. *Section 3* has code for training a RandomForestClassifier model based on the features resulted by the PSD calculations, applying the model and outputting a brief assessment of its performance. *Section 4* gives a detailed analysis of the model's performance, including plots of cumulative profit, probability calibration and a breakdown of model's ROI based on odds ranges."
   ]
  },
  {
   "cell_type": "markdown",
   "id": "24f18004-1baa-436d-8bf8-4c6538b64c9e",
   "metadata": {},
   "source": [
    " "
   ]
  },
  {
   "cell_type": "markdown",
   "id": "9d1dc87f-09db-48d9-9203-841aef39d2cc",
   "metadata": {},
   "source": [
    " "
   ]
  },
  {
   "cell_type": "markdown",
   "id": "5f33bf61-c524-427b-9c3c-8f578cdcc195",
   "metadata": {},
   "source": [
    "### **1- Preparations**"
   ]
  },
  {
   "cell_type": "code",
   "execution_count": 1,
   "id": "415aac72-bb65-465f-83b2-eeb1ff5ff924",
   "metadata": {},
   "outputs": [],
   "source": [
    "# Importing the required packages.\n",
    "import os\n",
    "\n",
    "import numpy as np\n",
    "import pandas as pd\n",
    "from pandas.tseries.offsets import DateOffset\n",
    "\n",
    "import matplotlib.pyplot as plt\n",
    "\n",
    "from sklearn.ensemble import RandomForestClassifier\n",
    "from sklearn.metrics import accuracy_score, classification_report, brier_score_loss, log_loss\n",
    "\n",
    "from statistics import mean, stdev"
   ]
  },
  {
   "cell_type": "markdown",
   "id": "faed1dcb-f91d-437a-9341-019fbf0bdc1d",
   "metadata": {},
   "source": [
    " "
   ]
  },
  {
   "cell_type": "markdown",
   "id": "7ed85845-ba52-487c-806d-97911a66b805",
   "metadata": {},
   "source": [
    "Loading historical match data for Major League Basebal for the 2021, 2022, 2023 and 2024 seasons. "
   ]
  },
  {
   "cell_type": "code",
   "execution_count": 2,
   "id": "05cb27d0-23ef-411b-b42a-dc091dad6f5f",
   "metadata": {},
   "outputs": [],
   "source": [
    "# Loading historical data: needs path to MLB.xlsx\n",
    "DF = pd.read_excel(os.path.join(os.getcwd(), \"MLB\", \"Fixed\", \"MLB.xlsx\"))\n",
    "#DF = pd.read_excel(\"MLB.xlsx\")"
   ]
  },
  {
   "cell_type": "markdown",
   "id": "0ced814e-ce59-48b9-a8fc-f4fab9f43c98",
   "metadata": {},
   "source": [
    " "
   ]
  },
  {
   "cell_type": "markdown",
   "id": "2eca500b-f63a-4ac0-a101-ed90302fe4d0",
   "metadata": {},
   "source": [
    "Two matches do not have scores and are removed."
   ]
  },
  {
   "cell_type": "code",
   "execution_count": 3,
   "id": "891fd716-ba70-4ad5-ace0-c630f0b2d5d4",
   "metadata": {},
   "outputs": [
    {
     "data": {
      "text/html": [
       "<div>\n",
       "<style scoped>\n",
       "    .dataframe tbody tr th:only-of-type {\n",
       "        vertical-align: middle;\n",
       "    }\n",
       "\n",
       "    .dataframe tbody tr th {\n",
       "        vertical-align: top;\n",
       "    }\n",
       "\n",
       "    .dataframe thead th {\n",
       "        text-align: right;\n",
       "    }\n",
       "</style>\n",
       "<table border=\"1\" class=\"dataframe\">\n",
       "  <thead>\n",
       "    <tr style=\"text-align: right;\">\n",
       "      <th></th>\n",
       "      <th>date</th>\n",
       "      <th>match_type</th>\n",
       "      <th>home_team</th>\n",
       "      <th>away_team</th>\n",
       "      <th>result</th>\n",
       "      <th>home_score</th>\n",
       "      <th>away_score</th>\n",
       "      <th>home_odds</th>\n",
       "      <th>away_odds</th>\n",
       "    </tr>\n",
       "  </thead>\n",
       "  <tbody>\n",
       "    <tr>\n",
       "      <th>19</th>\n",
       "      <td>2024-10-31</td>\n",
       "      <td>play_off</td>\n",
       "      <td>Cleveland Guardians</td>\n",
       "      <td>Houston Astros</td>\n",
       "      <td>NaN</td>\n",
       "      <td>NaN</td>\n",
       "      <td>NaN</td>\n",
       "      <td>1.71</td>\n",
       "      <td>2.2</td>\n",
       "    </tr>\n",
       "    <tr>\n",
       "      <th>7670</th>\n",
       "      <td>2021-09-19</td>\n",
       "      <td>regular</td>\n",
       "      <td>Atlanta Braves</td>\n",
       "      <td>Colorado Rockies</td>\n",
       "      <td>NaN</td>\n",
       "      <td>NaN</td>\n",
       "      <td>NaN</td>\n",
       "      <td>1.58</td>\n",
       "      <td>2.5</td>\n",
       "    </tr>\n",
       "  </tbody>\n",
       "</table>\n",
       "</div>"
      ],
      "text/plain": [
       "           date match_type            home_team         away_team result  \\\n",
       "19   2024-10-31   play_off  Cleveland Guardians    Houston Astros    NaN   \n",
       "7670 2021-09-19    regular       Atlanta Braves  Colorado Rockies    NaN   \n",
       "\n",
       "      home_score  away_score  home_odds  away_odds  \n",
       "19           NaN         NaN       1.71        2.2  \n",
       "7670         NaN         NaN       1.58        2.5  "
      ]
     },
     "execution_count": 3,
     "metadata": {},
     "output_type": "execute_result"
    }
   ],
   "source": [
    "DF[DF[[\"home_score\", \"away_score\"]].isna().any(axis=1)]"
   ]
  },
  {
   "cell_type": "code",
   "execution_count": 4,
   "id": "8cead669-77aa-4c83-8766-b951a0d43acd",
   "metadata": {},
   "outputs": [],
   "source": [
    "DF = DF.dropna(subset=[\"home_score\", \"away_score\"])"
   ]
  },
  {
   "cell_type": "markdown",
   "id": "f698e97c-7518-449e-ad66-0399af43b34a",
   "metadata": {},
   "source": [
    " "
   ]
  },
  {
   "cell_type": "markdown",
   "id": "316b19bd-4520-460e-9bdc-fd05ed03aa9f",
   "metadata": {},
   "source": [
    "23 matches do not have odds. These will be used in our psd calculation, but will be removed before the betting analysis."
   ]
  },
  {
   "cell_type": "code",
   "execution_count": 5,
   "id": "9f4c00b4-180f-4388-bd05-ebb3f9106f5c",
   "metadata": {},
   "outputs": [
    {
     "data": {
      "text/html": [
       "<div>\n",
       "<style scoped>\n",
       "    .dataframe tbody tr th:only-of-type {\n",
       "        vertical-align: middle;\n",
       "    }\n",
       "\n",
       "    .dataframe tbody tr th {\n",
       "        vertical-align: top;\n",
       "    }\n",
       "\n",
       "    .dataframe thead th {\n",
       "        text-align: right;\n",
       "    }\n",
       "</style>\n",
       "<table border=\"1\" class=\"dataframe\">\n",
       "  <thead>\n",
       "    <tr style=\"text-align: right;\">\n",
       "      <th></th>\n",
       "      <th>date</th>\n",
       "      <th>match_type</th>\n",
       "      <th>home_team</th>\n",
       "      <th>away_team</th>\n",
       "      <th>result</th>\n",
       "      <th>home_score</th>\n",
       "      <th>away_score</th>\n",
       "      <th>home_odds</th>\n",
       "      <th>away_odds</th>\n",
       "    </tr>\n",
       "  </thead>\n",
       "  <tbody>\n",
       "    <tr>\n",
       "      <th>450</th>\n",
       "      <td>2024-08-31</td>\n",
       "      <td>regular</td>\n",
       "      <td>Chicago White Sox</td>\n",
       "      <td>Texas Rangers</td>\n",
       "      <td>A</td>\n",
       "      <td>1.0</td>\n",
       "      <td>3.0</td>\n",
       "      <td>NaN</td>\n",
       "      <td>NaN</td>\n",
       "    </tr>\n",
       "    <tr>\n",
       "      <th>1516</th>\n",
       "      <td>2024-06-10</td>\n",
       "      <td>regular</td>\n",
       "      <td>Cleveland Guardians</td>\n",
       "      <td>Kansas City Royals</td>\n",
       "      <td>A</td>\n",
       "      <td>3.0</td>\n",
       "      <td>4.0</td>\n",
       "      <td>NaN</td>\n",
       "      <td>NaN</td>\n",
       "    </tr>\n",
       "    <tr>\n",
       "      <th>1669</th>\n",
       "      <td>2024-05-30</td>\n",
       "      <td>regular</td>\n",
       "      <td>St.Louis Cardinals</td>\n",
       "      <td>Chicago Cubs</td>\n",
       "      <td>H</td>\n",
       "      <td>7.0</td>\n",
       "      <td>6.0</td>\n",
       "      <td>NaN</td>\n",
       "      <td>NaN</td>\n",
       "    </tr>\n",
       "    <tr>\n",
       "      <th>1716</th>\n",
       "      <td>2024-05-26</td>\n",
       "      <td>regular</td>\n",
       "      <td>St.Louis Cardinals</td>\n",
       "      <td>Baltimore Orioles</td>\n",
       "      <td>H</td>\n",
       "      <td>3.0</td>\n",
       "      <td>1.0</td>\n",
       "      <td>NaN</td>\n",
       "      <td>NaN</td>\n",
       "    </tr>\n",
       "    <tr>\n",
       "      <th>2508</th>\n",
       "      <td>2023-11-02</td>\n",
       "      <td>play_off</td>\n",
       "      <td>New York Mets</td>\n",
       "      <td>Miami Marlins</td>\n",
       "      <td>H</td>\n",
       "      <td>1.0</td>\n",
       "      <td>0.0</td>\n",
       "      <td>NaN</td>\n",
       "      <td>NaN</td>\n",
       "    </tr>\n",
       "    <tr>\n",
       "      <th>2567</th>\n",
       "      <td>2023-10-02</td>\n",
       "      <td>regular</td>\n",
       "      <td>New York Mets</td>\n",
       "      <td>Philadelphia Phillies</td>\n",
       "      <td>H</td>\n",
       "      <td>11.0</td>\n",
       "      <td>4.0</td>\n",
       "      <td>NaN</td>\n",
       "      <td>NaN</td>\n",
       "    </tr>\n",
       "    <tr>\n",
       "      <th>3545</th>\n",
       "      <td>2023-07-19</td>\n",
       "      <td>regular</td>\n",
       "      <td>St.Louis Cardinals</td>\n",
       "      <td>Washington Nationals</td>\n",
       "      <td>A</td>\n",
       "      <td>5.0</td>\n",
       "      <td>7.0</td>\n",
       "      <td>NaN</td>\n",
       "      <td>NaN</td>\n",
       "    </tr>\n",
       "    <tr>\n",
       "      <th>3558</th>\n",
       "      <td>2023-07-19</td>\n",
       "      <td>regular</td>\n",
       "      <td>Cincinnati Reds</td>\n",
       "      <td>San Francisco Giants</td>\n",
       "      <td>A</td>\n",
       "      <td>2.0</td>\n",
       "      <td>4.0</td>\n",
       "      <td>NaN</td>\n",
       "      <td>NaN</td>\n",
       "    </tr>\n",
       "    <tr>\n",
       "      <th>4227</th>\n",
       "      <td>2023-05-24</td>\n",
       "      <td>regular</td>\n",
       "      <td>New York Mets</td>\n",
       "      <td>Cleveland Guardians</td>\n",
       "      <td>H</td>\n",
       "      <td>5.0</td>\n",
       "      <td>4.0</td>\n",
       "      <td>NaN</td>\n",
       "      <td>NaN</td>\n",
       "    </tr>\n",
       "    <tr>\n",
       "      <th>4346</th>\n",
       "      <td>2023-05-16</td>\n",
       "      <td>regular</td>\n",
       "      <td>Washington Nationals</td>\n",
       "      <td>New York Mets</td>\n",
       "      <td>H</td>\n",
       "      <td>3.0</td>\n",
       "      <td>2.0</td>\n",
       "      <td>NaN</td>\n",
       "      <td>NaN</td>\n",
       "    </tr>\n",
       "    <tr>\n",
       "      <th>4492</th>\n",
       "      <td>2023-05-05</td>\n",
       "      <td>regular</td>\n",
       "      <td>New York Mets</td>\n",
       "      <td>Atlanta Braves</td>\n",
       "      <td>H</td>\n",
       "      <td>5.0</td>\n",
       "      <td>3.0</td>\n",
       "      <td>NaN</td>\n",
       "      <td>NaN</td>\n",
       "    </tr>\n",
       "    <tr>\n",
       "      <th>4663</th>\n",
       "      <td>2023-04-24</td>\n",
       "      <td>regular</td>\n",
       "      <td>Cleveland Guardians</td>\n",
       "      <td>Miami Marlins</td>\n",
       "      <td>A</td>\n",
       "      <td>2.0</td>\n",
       "      <td>3.0</td>\n",
       "      <td>NaN</td>\n",
       "      <td>NaN</td>\n",
       "    </tr>\n",
       "    <tr>\n",
       "      <th>5359</th>\n",
       "      <td>2022-09-11</td>\n",
       "      <td>regular</td>\n",
       "      <td>Pittsburgh Pirates</td>\n",
       "      <td>New York Mets</td>\n",
       "      <td>A</td>\n",
       "      <td>1.0</td>\n",
       "      <td>5.0</td>\n",
       "      <td>NaN</td>\n",
       "      <td>NaN</td>\n",
       "    </tr>\n",
       "    <tr>\n",
       "      <th>6074</th>\n",
       "      <td>2022-07-17</td>\n",
       "      <td>regular</td>\n",
       "      <td>Chicago Cubs</td>\n",
       "      <td>New York Mets</td>\n",
       "      <td>A</td>\n",
       "      <td>3.0</td>\n",
       "      <td>4.0</td>\n",
       "      <td>NaN</td>\n",
       "      <td>NaN</td>\n",
       "    </tr>\n",
       "    <tr>\n",
       "      <th>7290</th>\n",
       "      <td>2022-04-21</td>\n",
       "      <td>regular</td>\n",
       "      <td>New York Mets</td>\n",
       "      <td>San Francisco Giants</td>\n",
       "      <td>H</td>\n",
       "      <td>3.0</td>\n",
       "      <td>1.0</td>\n",
       "      <td>NaN</td>\n",
       "      <td>NaN</td>\n",
       "    </tr>\n",
       "    <tr>\n",
       "      <th>7866</th>\n",
       "      <td>2021-09-04</td>\n",
       "      <td>regular</td>\n",
       "      <td>New York Mets</td>\n",
       "      <td>Miami Marlins</td>\n",
       "      <td>H</td>\n",
       "      <td>6.0</td>\n",
       "      <td>5.0</td>\n",
       "      <td>NaN</td>\n",
       "      <td>NaN</td>\n",
       "    </tr>\n",
       "    <tr>\n",
       "      <th>7975</th>\n",
       "      <td>2021-08-28</td>\n",
       "      <td>regular</td>\n",
       "      <td>Chicago Cubs</td>\n",
       "      <td>Colorado Rockies</td>\n",
       "      <td>A</td>\n",
       "      <td>10.0</td>\n",
       "      <td>13.0</td>\n",
       "      <td>NaN</td>\n",
       "      <td>NaN</td>\n",
       "    </tr>\n",
       "    <tr>\n",
       "      <th>8206</th>\n",
       "      <td>2021-08-13</td>\n",
       "      <td>regular</td>\n",
       "      <td>New York Mets</td>\n",
       "      <td>Washington Nationals</td>\n",
       "      <td>H</td>\n",
       "      <td>8.0</td>\n",
       "      <td>7.0</td>\n",
       "      <td>NaN</td>\n",
       "      <td>NaN</td>\n",
       "    </tr>\n",
       "    <tr>\n",
       "      <th>8390</th>\n",
       "      <td>2021-07-29</td>\n",
       "      <td>regular</td>\n",
       "      <td>New York Mets</td>\n",
       "      <td>Atlanta Braves</td>\n",
       "      <td>H</td>\n",
       "      <td>1.0</td>\n",
       "      <td>0.0</td>\n",
       "      <td>NaN</td>\n",
       "      <td>NaN</td>\n",
       "    </tr>\n",
       "    <tr>\n",
       "      <th>8399</th>\n",
       "      <td>2021-07-29</td>\n",
       "      <td>regular</td>\n",
       "      <td>Boston Red Sox</td>\n",
       "      <td>Toronto Blue Jays</td>\n",
       "      <td>A</td>\n",
       "      <td>1.0</td>\n",
       "      <td>4.0</td>\n",
       "      <td>NaN</td>\n",
       "      <td>NaN</td>\n",
       "    </tr>\n",
       "    <tr>\n",
       "      <th>8763</th>\n",
       "      <td>2021-06-29</td>\n",
       "      <td>regular</td>\n",
       "      <td>Chicago White Sox</td>\n",
       "      <td>Seattle Mariners</td>\n",
       "      <td>A</td>\n",
       "      <td>2.0</td>\n",
       "      <td>3.0</td>\n",
       "      <td>NaN</td>\n",
       "      <td>NaN</td>\n",
       "    </tr>\n",
       "    <tr>\n",
       "      <th>9120</th>\n",
       "      <td>2021-05-30</td>\n",
       "      <td>regular</td>\n",
       "      <td>Washington Nationals</td>\n",
       "      <td>Cincinnati Reds</td>\n",
       "      <td>H</td>\n",
       "      <td>5.0</td>\n",
       "      <td>3.0</td>\n",
       "      <td>NaN</td>\n",
       "      <td>NaN</td>\n",
       "    </tr>\n",
       "    <tr>\n",
       "      <th>9652</th>\n",
       "      <td>2021-04-23</td>\n",
       "      <td>regular</td>\n",
       "      <td>Cincinnati Reds</td>\n",
       "      <td>Arizona Diamondbacks</td>\n",
       "      <td>A</td>\n",
       "      <td>4.0</td>\n",
       "      <td>5.0</td>\n",
       "      <td>NaN</td>\n",
       "      <td>NaN</td>\n",
       "    </tr>\n",
       "  </tbody>\n",
       "</table>\n",
       "</div>"
      ],
      "text/plain": [
       "           date match_type             home_team              away_team  \\\n",
       "450  2024-08-31    regular     Chicago White Sox          Texas Rangers   \n",
       "1516 2024-06-10    regular   Cleveland Guardians     Kansas City Royals   \n",
       "1669 2024-05-30    regular    St.Louis Cardinals           Chicago Cubs   \n",
       "1716 2024-05-26    regular    St.Louis Cardinals      Baltimore Orioles   \n",
       "2508 2023-11-02   play_off         New York Mets          Miami Marlins   \n",
       "2567 2023-10-02    regular         New York Mets  Philadelphia Phillies   \n",
       "3545 2023-07-19    regular    St.Louis Cardinals   Washington Nationals   \n",
       "3558 2023-07-19    regular       Cincinnati Reds   San Francisco Giants   \n",
       "4227 2023-05-24    regular         New York Mets    Cleveland Guardians   \n",
       "4346 2023-05-16    regular  Washington Nationals          New York Mets   \n",
       "4492 2023-05-05    regular         New York Mets         Atlanta Braves   \n",
       "4663 2023-04-24    regular   Cleveland Guardians          Miami Marlins   \n",
       "5359 2022-09-11    regular    Pittsburgh Pirates          New York Mets   \n",
       "6074 2022-07-17    regular          Chicago Cubs          New York Mets   \n",
       "7290 2022-04-21    regular         New York Mets   San Francisco Giants   \n",
       "7866 2021-09-04    regular         New York Mets          Miami Marlins   \n",
       "7975 2021-08-28    regular          Chicago Cubs       Colorado Rockies   \n",
       "8206 2021-08-13    regular         New York Mets   Washington Nationals   \n",
       "8390 2021-07-29    regular         New York Mets         Atlanta Braves   \n",
       "8399 2021-07-29    regular        Boston Red Sox      Toronto Blue Jays   \n",
       "8763 2021-06-29    regular     Chicago White Sox       Seattle Mariners   \n",
       "9120 2021-05-30    regular  Washington Nationals        Cincinnati Reds   \n",
       "9652 2021-04-23    regular       Cincinnati Reds   Arizona Diamondbacks   \n",
       "\n",
       "     result  home_score  away_score  home_odds  away_odds  \n",
       "450       A         1.0         3.0        NaN        NaN  \n",
       "1516      A         3.0         4.0        NaN        NaN  \n",
       "1669      H         7.0         6.0        NaN        NaN  \n",
       "1716      H         3.0         1.0        NaN        NaN  \n",
       "2508      H         1.0         0.0        NaN        NaN  \n",
       "2567      H        11.0         4.0        NaN        NaN  \n",
       "3545      A         5.0         7.0        NaN        NaN  \n",
       "3558      A         2.0         4.0        NaN        NaN  \n",
       "4227      H         5.0         4.0        NaN        NaN  \n",
       "4346      H         3.0         2.0        NaN        NaN  \n",
       "4492      H         5.0         3.0        NaN        NaN  \n",
       "4663      A         2.0         3.0        NaN        NaN  \n",
       "5359      A         1.0         5.0        NaN        NaN  \n",
       "6074      A         3.0         4.0        NaN        NaN  \n",
       "7290      H         3.0         1.0        NaN        NaN  \n",
       "7866      H         6.0         5.0        NaN        NaN  \n",
       "7975      A        10.0        13.0        NaN        NaN  \n",
       "8206      H         8.0         7.0        NaN        NaN  \n",
       "8390      H         1.0         0.0        NaN        NaN  \n",
       "8399      A         1.0         4.0        NaN        NaN  \n",
       "8763      A         2.0         3.0        NaN        NaN  \n",
       "9120      H         5.0         3.0        NaN        NaN  \n",
       "9652      A         4.0         5.0        NaN        NaN  "
      ]
     },
     "execution_count": 5,
     "metadata": {},
     "output_type": "execute_result"
    }
   ],
   "source": [
    "DF[DF[[\"home_odds\", \"away_odds\"]].isna().any(axis=1)]"
   ]
  },
  {
   "cell_type": "markdown",
   "id": "65da9ab3-b3b2-4620-b577-69cc639cd549",
   "metadata": {},
   "source": [
    " "
   ]
  },
  {
   "cell_type": "markdown",
   "id": "d1740211-a4d7-49ba-92a3-58830f7fd3ac",
   "metadata": {},
   "source": [
    "### **2- Projected score difference calculation**"
   ]
  },
  {
   "cell_type": "markdown",
   "id": "93cc9f59-5ab7-49d5-a7cd-0f4a5f55c303",
   "metadata": {},
   "source": [
    "The following function inputs home and away team names, the match date and its provided format and outputs the *projected score difference* as home/away teams based on the performance in the search window, the length of which is inputted as search_length (in months). The other input is a properly formatted dataframe containing the corresponding historical match data."
   ]
  },
  {
   "cell_type": "code",
   "execution_count": 6,
   "id": "badcac07-df5d-44c0-ae6e-d843e8c77bd4",
   "metadata": {},
   "outputs": [],
   "source": [
    "def calculate_projected_score_difference(home_team, away_team, match_date, \n",
    "                                          date_format=\"mixed\", search_length=12, dataframe=None):\n",
    "    \"\"\"\n",
    "    Calculates projected score difference between two teams based on matches played against common opponents.\n",
    "\n",
    "    Parameters:\n",
    "        home_team (str): Name of the home team.\n",
    "        away_team (str): Name of the away team.\n",
    "        match_date (str): Date of the match.\n",
    "        date_format (str): Format of the date strings in the dataframe. Defaults to \"mixed\".\n",
    "        search_length (int): Number of months prior to the match_date to consider.\n",
    "        dataframe (pd.DataFrame): Dataframe containing match data with required columns.\n",
    "\n",
    "    Returns:\n",
    "        dict: Dictionary containing statistics for projected score differences as home and away teams.\n",
    "    \"\"\"\n",
    "    try:\n",
    "        # Validate inputs\n",
    "        if dataframe is None or not isinstance(dataframe, pd.DataFrame):\n",
    "            raise ValueError(\"Input dataframe is invalid or not provided.\")\n",
    "        \n",
    "        required_columns = {\"date\", \"home_team\", \"away_team\", \"result\", \"home_score\", \"away_score\"}\n",
    "        if not required_columns.issubset(dataframe.columns):\n",
    "            raise ValueError(f\"Dataframe must contain the following columns: {required_columns}\")\n",
    "\n",
    "        # Convert dates\n",
    "        if date_format == \"mixed\":\n",
    "            dataframe[\"formatted_date\"] = pd.to_datetime(dataframe[\"date\"], errors='coerce')\n",
    "            match_date = pd.to_datetime(match_date, errors='coerce')\n",
    "        else:\n",
    "            dataframe[\"formatted_date\"] = pd.to_datetime(dataframe[\"date\"], format=date_format, errors='coerce')\n",
    "            match_date = pd.to_datetime(match_date, format=date_format, errors='coerce')\n",
    "\n",
    "        if pd.isnull(match_date):\n",
    "            raise ValueError(\"match_date could not be converted to a valid date.\")\n",
    "\n",
    "        # Filter dataframe for matches within the search length\n",
    "        search_start_date = match_date - DateOffset(months=search_length)\n",
    "        filtered_df = dataframe[(dataframe[\"formatted_date\"] >= search_start_date) &\n",
    "                                 (dataframe[\"formatted_date\"] < match_date)]\n",
    "\n",
    "        # Filter matches for each team's history\n",
    "        home_team_home_matches = filtered_df[filtered_df[\"home_team\"] == home_team]\n",
    "        away_team_away_matches = filtered_df[filtered_df[\"away_team\"] == away_team]\n",
    "        home_team_away_matches = filtered_df[filtered_df[\"away_team\"] == home_team]\n",
    "        away_team_home_matches = filtered_df[filtered_df[\"home_team\"] == away_team]\n",
    "\n",
    "        # Combine matches for overall history\n",
    "        home_team_matches = pd.concat([home_team_home_matches, home_team_away_matches], ignore_index=True)\n",
    "        away_team_matches = pd.concat([away_team_away_matches, away_team_home_matches], ignore_index=True)\n",
    "\n",
    "        # Find common opponents\n",
    "        home_opponents = set(home_team_home_matches[\"away_team\"]) | set(home_team_away_matches[\"home_team\"])\n",
    "        away_opponents = set(away_team_home_matches[\"away_team\"]) | set(away_team_away_matches[\"home_team\"])\n",
    "        common_opponents = list(home_opponents.intersection(away_opponents))\n",
    "\n",
    "        # Initialise lists for projected score differences\n",
    "        diff_list = []\n",
    "        diff_list2 = []\n",
    "\n",
    "        for opponent in common_opponents:\n",
    "            # Matches where teams played the common opponent\n",
    "            home_vs_opponent_home = home_team_matches[home_team_matches[\"away_team\"] == opponent]\n",
    "            away_vs_opponent_home = away_team_matches[away_team_matches[\"away_team\"] == opponent]\n",
    "            home_vs_opponent_away = home_team_matches[home_team_matches[\"home_team\"] == opponent]\n",
    "            away_vs_opponent_away = away_team_matches[away_team_matches[\"home_team\"] == opponent]\n",
    "\n",
    "            # Score differences\n",
    "            home_diff1 = (home_vs_opponent_home[\"home_score\"] - home_vs_opponent_home[\"away_score\"]).tolist()\n",
    "            away_diff1 = (away_vs_opponent_home[\"home_score\"] - away_vs_opponent_home[\"away_score\"]).tolist()\n",
    "\n",
    "            home_diff2 = (home_vs_opponent_away[\"away_score\"] - home_vs_opponent_away[\"home_score\"]).tolist()\n",
    "            away_diff2 = (away_vs_opponent_away[\"away_score\"] - away_vs_opponent_away[\"home_score\"]).tolist()\n",
    "\n",
    "            # Calculate projected score differences\n",
    "            if home_diff1 and away_diff1:\n",
    "                psd_home = (len(away_diff1) * sum(home_diff1) - len(home_diff1) * sum(away_diff1)) / \\\n",
    "                           (len(away_diff1) * len(home_diff1))\n",
    "                diff_list.append(psd_home)\n",
    "\n",
    "            if home_diff2 and away_diff2:\n",
    "                psd_away = (len(away_diff2) * sum(home_diff2) - len(home_diff2) * sum(away_diff2)) / \\\n",
    "                           (len(away_diff2) * len(home_diff2))\n",
    "                diff_list2.append(psd_away)\n",
    "\n",
    "        # Calculate final statistics\n",
    "        psdh = mean(diff_list) if diff_list else 0\n",
    "        psda = mean(diff_list2) if diff_list2 else 0\n",
    "\n",
    "        len_diff_list = len(diff_list)\n",
    "        len_diff_list2 = len(diff_list2)\n",
    "\n",
    "        std_diff_list = stdev(diff_list) if len(diff_list) > 1 else 0\n",
    "        std_diff_list2 = stdev(diff_list2) if len(diff_list2) > 1 else 0\n",
    "\n",
    "        return {\n",
    "            \"projected_score_difference_as_home\": {\n",
    "                \"mean\": psdh,\n",
    "                \"std\": std_diff_list,\n",
    "                \"count\": len_diff_list\n",
    "            },\n",
    "            \"projected_score_difference_as_away\": {\n",
    "                \"mean\": psda,\n",
    "                \"std\": std_diff_list2,\n",
    "                \"count\": len_diff_list2\n",
    "            }\n",
    "        }\n",
    "\n",
    "    except Exception as e:\n",
    "        raise RuntimeError(f\"An error occurred while calculating the projected score difference: {e}\")\n"
   ]
  },
  {
   "cell_type": "markdown",
   "id": "a96d35a2-82ca-43f2-9c68-4dce0d244038",
   "metadata": {},
   "source": [
    " "
   ]
  },
  {
   "cell_type": "markdown",
   "id": "fdb47460-c376-4fb8-9f03-437c783c455b",
   "metadata": {},
   "source": [
    "The following function uses the above to add the *projected score difference* statistics to the portion of a dataframe within a prescribed date range."
   ]
  },
  {
   "cell_type": "code",
   "execution_count": 7,
   "id": "7320d686-0590-4046-a885-c654e344f39d",
   "metadata": {},
   "outputs": [],
   "source": [
    "def add_projected_score_statistics(dataframe, start_date, end_date, date_format=\"mixed\", search_length = 12):\n",
    "    \"\"\"\n",
    "    Adds projected score difference statistics to a new dataframe for matches within a timeframe.\n",
    "\n",
    "    Parameters:\n",
    "        dataframe (pd.DataFrame): Historical match data with required columns.\n",
    "        start_date (str): Start date of the analysis range.\n",
    "        end_date (str): End date of the analysis range.\n",
    "        search_length (int): Number of months prior to each match date to consider for statistics.\n",
    "\n",
    "    Returns:\n",
    "        pd.DataFrame: New dataframe with matches in the specified range and additional columns for projected score difference statistics.\n",
    "    \"\"\"\n",
    "    try:\n",
    "        # Validate inputs\n",
    "        if not isinstance(dataframe, pd.DataFrame):\n",
    "            raise ValueError(\"Input dataframe is invalid or not provided.\")\n",
    "        \n",
    "        required_columns = {\"date\", \"home_team\", \"away_team\", \"home_score\", \"away_score\"}\n",
    "        if not required_columns.issubset(dataframe.columns):\n",
    "            raise ValueError(f\"Dataframe must contain the following columns: {required_columns}\")\n",
    "\n",
    "        # Convert dates\n",
    "        dataframe[\"formatted_date\"] = pd.to_datetime(dataframe[\"date\"], errors='coerce')\n",
    "        start_date = pd.to_datetime(start_date, errors='coerce')\n",
    "        end_date = pd.to_datetime(end_date, errors='coerce')\n",
    "\n",
    "        if pd.isnull(start_date) or pd.isnull(end_date):\n",
    "            raise ValueError(\"start_date or end_date could not be converted to valid dates.\")\n",
    "\n",
    "        if start_date >= end_date:\n",
    "            raise ValueError(\"start_date must be earlier than end_date.\")\n",
    "\n",
    "        # Remove invalid score entries\n",
    "        dataframe = dataframe[dataframe[\"home_score\"].apply(lambda x: isinstance(x, float))]\n",
    "        dataframe = dataframe[dataframe[\"away_score\"].apply(lambda x: isinstance(x, float))]\n",
    "\n",
    "        # Filter dataframe for the extended range\n",
    "        extended_start_date = start_date - DateOffset(months=search_length)\n",
    "        filtered_df = dataframe[(dataframe[\"formatted_date\"] >= extended_start_date) &\n",
    "                                 (dataframe[\"formatted_date\"] <= end_date)].copy()\n",
    "\n",
    "        # Filter for matches in the specified range\n",
    "        analysis_df = filtered_df[(filtered_df[\"formatted_date\"] >= start_date) &\n",
    "                                   (filtered_df[\"formatted_date\"] <= end_date)].copy()\n",
    "\n",
    "        # Initialise columns for projected score statistics\n",
    "        analysis_df[\"psd_home_mean\"] = None\n",
    "        analysis_df[\"psd_away_mean\"] = None\n",
    "        analysis_df[\"psd_home_std\"] = None\n",
    "        analysis_df[\"psd_away_std\"] = None\n",
    "        analysis_df[\"psd_home_count\"] = None\n",
    "        analysis_df[\"psd_away_count\"] = None\n",
    "\n",
    "        # Iterate through matches in the analysis range\n",
    "        for index, row in analysis_df.iterrows():\n",
    "            home_team = row[\"home_team\"]\n",
    "            away_team = row[\"away_team\"]\n",
    "            match_date = row[\"formatted_date\"]\n",
    "\n",
    "            # Calculate projected score statistics\n",
    "            stats = calculate_projected_score_difference(\n",
    "                home_team=home_team,\n",
    "                away_team=away_team,\n",
    "                match_date=match_date,\n",
    "                date_format=date_format,\n",
    "                search_length=search_length,\n",
    "                dataframe=filtered_df\n",
    "            )\n",
    "\n",
    "            # Add statistics to the analysis dataframe\n",
    "            analysis_df.at[index, \"psd_home_mean\"] = stats[\"projected_score_difference_as_home\"][\"mean\"]\n",
    "            analysis_df.at[index, \"psd_away_mean\"] = stats[\"projected_score_difference_as_away\"][\"mean\"]\n",
    "            analysis_df.at[index, \"psd_home_std\"] = stats[\"projected_score_difference_as_home\"][\"std\"]\n",
    "            analysis_df.at[index, \"psd_away_std\"] = stats[\"projected_score_difference_as_away\"][\"std\"]\n",
    "            analysis_df.at[index, \"psd_home_count\"] = stats[\"projected_score_difference_as_home\"][\"count\"]\n",
    "            analysis_df.at[index, \"psd_away_count\"] = stats[\"projected_score_difference_as_away\"][\"count\"]\n",
    "\n",
    "        # Sort by date in descending order and reset index\n",
    "        analysis_df.sort_values(by=\"formatted_date\", ascending=False, inplace=True)\n",
    "        analysis_df.reset_index(drop=True, inplace=True)\n",
    "\n",
    "        return analysis_df\n",
    "\n",
    "    except Exception as e:\n",
    "        raise RuntimeError(f\"An error occurred while adding projected score statistics: {e}\")"
   ]
  },
  {
   "cell_type": "markdown",
   "id": "210a5c23-38c5-4745-99b5-21dc9df6b3b3",
   "metadata": {},
   "source": [
    " "
   ]
  },
  {
   "cell_type": "markdown",
   "id": "3de40244-5818-49b3-92dc-4536e86cbfde",
   "metadata": {},
   "source": [
    "We add the projected statistics to the 2022, 2023 and 2024 seasons (2021 season is used only to evaluate the 2022 projected score difference statistics). This can take 10 or more minutes."
   ]
  },
  {
   "cell_type": "code",
   "execution_count": 8,
   "id": "15272727-cf42-4125-a174-2271312e6e59",
   "metadata": {},
   "outputs": [],
   "source": [
    "DF_with_projected_score_statistics = add_projected_score_statistics(DF, '2022-01-01', '2024-12-30', \"mixed\", 12)"
   ]
  },
  {
   "cell_type": "code",
   "execution_count": 9,
   "id": "ed0e6836-345c-4077-86f4-a12f1dad6aa0",
   "metadata": {},
   "outputs": [],
   "source": [
    "# Good to keep a copy of this.\n",
    "DF_with_projected_score_statistics_copy = DF_with_projected_score_statistics.copy()"
   ]
  },
  {
   "cell_type": "markdown",
   "id": "33172dc7-73d3-4e08-aa81-30dc302971ce",
   "metadata": {},
   "source": [
    " "
   ]
  },
  {
   "cell_type": "markdown",
   "id": "523270ad-1ebd-4688-b299-c15b10e23f4e",
   "metadata": {},
   "source": [
    "### **3- Machine learning: RandomForestClassifier**"
   ]
  },
  {
   "cell_type": "markdown",
   "id": "d1082cb6-6f42-4c8e-8cda-2ce123d47dac",
   "metadata": {},
   "source": [
    "The following trains a RandomForestClassifier on a prescribed earlier portion of an input dataset, to determine and record win probabilities of teams for each match in the test set. It then uses the given odds and the Kelly criterion to place bets and record the net profit. It outputs the model, the resulting prediction/betting dataframe, the accuracy and a general report on the model's performance."
   ]
  },
  {
   "cell_type": "code",
   "execution_count": 10,
   "id": "99b1cee4-9f41-4138-93d8-d644835acda0",
   "metadata": {},
   "outputs": [],
   "source": [
    "# kelly inputs the odds of an event and its preceived probability\n",
    "# outputs a decimal corresponding to the fraction of one's capital, one should bet\n",
    "def kelly(odds, prob):\n",
    "    if odds <= 1:\n",
    "        return 0\n",
    "    return max(0, prob - (1 - prob) / (odds - 1))\n",
    "\n",
    "def train_and_predict_psd_model(dataframe, test_size=0.6):\n",
    "    \"\"\"\n",
    "    Trains a machine learning model to predict match results (home win or away win) based on PSD values and their reliability,\n",
    "    and calculates betting strategy and profit based on predicted probabilities.\n",
    "\n",
    "    Parameters:\n",
    "        dataframe (pd.DataFrame): Input dataframe with necessary columns.\n",
    "        test_size (float): Proportion of the dataset to include in the test split.\n",
    "\n",
    "    Returns:\n",
    "        dict: Dictionary containing the trained model, prediction dataframe, and performance metrics.\n",
    "    \"\"\"\n",
    "    # Sort the dataframe by date to ensure proper temporal ordering\n",
    "    dataframe = dataframe.sort_values(by=\"formatted_date\").reset_index(drop=True)\n",
    "\n",
    "    # Determine split index based on test size\n",
    "    split_index = int(len(dataframe) * (1 - test_size))\n",
    "\n",
    "    # Split data into training and testing sets\n",
    "    train_df = dataframe.iloc[:split_index]\n",
    "    test_df = dataframe.iloc[split_index:].copy()\n",
    "\n",
    "    # Define features and target\n",
    "    features = [\"psd_home_mean\", \"psd_away_mean\", \"psd_home_std\", \"psd_away_std\"]\n",
    "    X_train = train_df[features]\n",
    "    y_train = (train_df[\"result\"] == \"H\").astype(int)  # 1 for home win, 0 for away win\n",
    "    X_test = test_df[features]\n",
    "    y_test = (test_df[\"result\"] == \"H\").astype(int)\n",
    "\n",
    "    # Train a RandomForestClassifier (can be replaced with other models)\n",
    "    model = RandomForestClassifier(random_state=42, n_estimators=100, max_depth=5)\n",
    "    model.fit(X_train, y_train)\n",
    "\n",
    "    # Make predictions on the test set\n",
    "    y_pred = model.predict(X_test)\n",
    "    y_pred_proba = model.predict_proba(X_test)[:, 1]  # Probabilities for home win\n",
    "\n",
    "    # Evaluate the model\n",
    "    accuracy = accuracy_score(y_test, y_pred)\n",
    "    report = classification_report(y_test, y_pred, target_names=[\"Away Win\", \"Home Win\"], output_dict=True)\n",
    "\n",
    "    # Add predictions and probabilities to the test dataframe\n",
    "    test_df.loc[:, \"predicted_result\"] = [\"H\" if pred == 1 else \"A\" for pred in y_pred]\n",
    "    test_df.loc[:, \"home_win_probability\"] = y_pred_proba\n",
    "    test_df.loc[:, \"away_win_probability\"] = 1 - y_pred_proba\n",
    "\n",
    "    # Initialise betting columns\n",
    "    test_df.loc[:, \"home_bet\"] = 0.0\n",
    "    test_df.loc[:, \"away_bet\"] = 0.0\n",
    "    test_df.loc[:, \"profit\"] = 0.0\n",
    "\n",
    "    # Calculate bets and profit for each match in the test set\n",
    "    for index, row in test_df.iterrows():\n",
    "        try:\n",
    "            home_odds = row[\"home_odds\"]\n",
    "            away_odds = row[\"away_odds\"]\n",
    "            home_win_prob = row[\"home_win_probability\"]\n",
    "            away_win_prob = row[\"away_win_probability\"]\n",
    "\n",
    "            # Calculate bets using Kelly criterion\n",
    "            home_bet = kelly(home_odds, home_win_prob)\n",
    "            away_bet = kelly(away_odds, away_win_prob)\n",
    "\n",
    "            # Calculate profit\n",
    "            profit = 0\n",
    "            if row[\"result\"] == \"H\":\n",
    "                profit = home_bet * (home_odds - 1) - away_bet\n",
    "            elif row[\"result\"] == \"A\":\n",
    "                profit = away_bet * (away_odds - 1) - home_bet\n",
    "\n",
    "            # Update test dataframe\n",
    "            test_df.loc[index, \"home_bet\"] = home_bet\n",
    "            test_df.loc[index, \"away_bet\"] = away_bet\n",
    "            test_df.loc[index, \"profit\"] = profit\n",
    "\n",
    "        except Exception as e:\n",
    "            print(f\"Error processing row {index}: {e}\")\n",
    "\n",
    "    # Return the model, predictions, and metrics\n",
    "    return {\n",
    "        \"model\": model,\n",
    "        \"prediction_dataframe\": test_df,\n",
    "        \"accuracy\": accuracy,\n",
    "        \"classification_report\": report\n",
    "    }"
   ]
  },
  {
   "cell_type": "markdown",
   "id": "0a151638-0f03-45ae-853b-90f64841cb55",
   "metadata": {},
   "source": [
    " "
   ]
  },
  {
   "cell_type": "markdown",
   "id": "8d7eab92-ad3f-4a07-9494-3f2e37875e59",
   "metadata": {},
   "source": [
    "We now drop matches with no provided odds, before applying the betting strategy."
   ]
  },
  {
   "cell_type": "code",
   "execution_count": 11,
   "id": "a165205f-b87c-41cf-afa4-0f107dcecace",
   "metadata": {},
   "outputs": [],
   "source": [
    "DF_with_projected_score_statistics = DF_with_projected_score_statistics.dropna(subset=[\"home_odds\", \"away_odds\"])"
   ]
  },
  {
   "cell_type": "markdown",
   "id": "3ecf5121-b211-4fa7-9edd-5aba3f44cc32",
   "metadata": {},
   "source": [
    " "
   ]
  },
  {
   "cell_type": "markdown",
   "id": "8495cc5d-5262-4ae0-bbae-7356c89b33fc",
   "metadata": {},
   "source": [
    "We also need to remove matches with no projected score differences and we have 16 of them."
   ]
  },
  {
   "cell_type": "code",
   "execution_count": 12,
   "id": "97212aa5-3177-4638-a26a-03e59a056545",
   "metadata": {},
   "outputs": [
    {
     "data": {
      "text/plain": [
       "16"
      ]
     },
     "execution_count": 12,
     "metadata": {},
     "output_type": "execute_result"
    }
   ],
   "source": [
    "len(DF_with_projected_score_statistics[(DF_with_projected_score_statistics[\"psd_home_count\"] == 0) | (DF_with_projected_score_statistics[\"psd_away_count\"] == 0)])"
   ]
  },
  {
   "cell_type": "code",
   "execution_count": 13,
   "id": "1c2b1aca-eef5-40a3-bea7-ccbbc79c4b5f",
   "metadata": {},
   "outputs": [],
   "source": [
    "DF_with_projected_score_statistics = DF_with_projected_score_statistics[(DF_with_projected_score_statistics[\"psd_home_count\"] != 0) & (DF_with_projected_score_statistics[\"psd_away_count\"] != 0)]"
   ]
  },
  {
   "cell_type": "code",
   "execution_count": 14,
   "id": "0824395d-f280-419e-bf6e-f20e71b981ea",
   "metadata": {},
   "outputs": [],
   "source": [
    "# Resetting indices.\n",
    "DF_with_projected_score_statistics.reset_index(inplace=True)"
   ]
  },
  {
   "cell_type": "markdown",
   "id": "b616d635-71a1-4c17-8f92-0487cdc96ca9",
   "metadata": {},
   "source": [
    " "
   ]
  },
  {
   "cell_type": "markdown",
   "id": "65c381f2-7053-4e83-a92d-a4ffd92378e0",
   "metadata": {},
   "source": [
    "Applying the model and fetching key performance metrics."
   ]
  },
  {
   "cell_type": "code",
   "execution_count": 15,
   "id": "450ed0bb-89bc-4d73-8fe6-25004ade024d",
   "metadata": {},
   "outputs": [],
   "source": [
    "model_performance_dict = train_and_predict_psd_model(DF_with_projected_score_statistics, 0.6)"
   ]
  },
  {
   "cell_type": "code",
   "execution_count": 16,
   "id": "dea14f55-5f38-4636-84c6-d96f7e32ff49",
   "metadata": {},
   "outputs": [
    {
     "data": {
      "text/plain": [
       "7.294574577161278"
      ]
     },
     "execution_count": 16,
     "metadata": {},
     "output_type": "execute_result"
    }
   ],
   "source": [
    "# Total profit\n",
    "model_performance_dict[\"prediction_dataframe\"]['profit'].sum()"
   ]
  },
  {
   "cell_type": "code",
   "execution_count": 17,
   "id": "ed819799-029d-40ff-b3c2-eaaf47a688e7",
   "metadata": {},
   "outputs": [
    {
     "data": {
      "text/plain": [
       "0.5581132927104491"
      ]
     },
     "execution_count": 17,
     "metadata": {},
     "output_type": "execute_result"
    }
   ],
   "source": [
    "model_performance_dict['accuracy']"
   ]
  },
  {
   "cell_type": "code",
   "execution_count": 18,
   "id": "4733831e-c9b5-4d99-97bf-898493b73e2c",
   "metadata": {},
   "outputs": [
    {
     "data": {
      "text/plain": [
       "{'Away Win': {'precision': 0.5492874109263658,\n",
       "  'recall': 0.4354990583804143,\n",
       "  'f1-score': 0.48581932773109243,\n",
       "  'support': 2124.0},\n",
       " 'Home Win': {'precision': 0.5635238441936659,\n",
       "  'recall': 0.6710013003901171,\n",
       "  'f1-score': 0.6125840918084685,\n",
       "  'support': 2307.0},\n",
       " 'accuracy': 0.5581132927104491,\n",
       " 'macro avg': {'precision': 0.5564056275600158,\n",
       "  'recall': 0.5532501793852657,\n",
       "  'f1-score': 0.5492017097697804,\n",
       "  'support': 4431.0},\n",
       " 'weighted avg': {'precision': 0.556699609425048,\n",
       "  'recall': 0.5581132927104491,\n",
       "  'f1-score': 0.5518193978566863,\n",
       "  'support': 4431.0}}"
      ]
     },
     "execution_count": 18,
     "metadata": {},
     "output_type": "execute_result"
    }
   ],
   "source": [
    "model_performance_dict['classification_report']"
   ]
  },
  {
   "cell_type": "markdown",
   "id": "220415b2-4f89-4af9-abd6-ca565d74dc3f",
   "metadata": {},
   "source": [
    " "
   ]
  },
  {
   "cell_type": "markdown",
   "id": "9e9c398c-315c-4c81-b55a-5c4bc1dbb9a7",
   "metadata": {},
   "source": [
    "### **4- In-depth analysis of model's performance**"
   ]
  },
  {
   "cell_type": "code",
   "execution_count": 19,
   "id": "9176f4eb-8563-401c-a4d9-109c5df73dff",
   "metadata": {},
   "outputs": [],
   "source": [
    "# Fetching our predictions and betting dataframe.\n",
    "prediction_dataframe = model_performance_dict['prediction_dataframe']"
   ]
  },
  {
   "cell_type": "markdown",
   "id": "84261f2b-ebe9-4f2a-8ab7-92f4d0ef38b5",
   "metadata": {},
   "source": [
    "The following evaluates various metrics corresponding to the efficacy of both our model and bookmaker concensus in predicting match outcomes."
   ]
  },
  {
   "cell_type": "code",
   "execution_count": 20,
   "id": "75011edc-e935-4b1f-954e-a20699489f0a",
   "metadata": {},
   "outputs": [],
   "source": [
    "def analyse_prediction_performance(df):\n",
    "    \"\"\"\n",
    "    Analyse model performance and compare it to bookmaker probabilities.\n",
    "\n",
    "    Parameters:\n",
    "        df (pd.DataFrame): Dataframe containing prediction results and betting details.\n",
    "\n",
    "    Returns:\n",
    "        dict: Dictionary with various performance metrics and insights.\n",
    "    \"\"\"\n",
    "    results = {}\n",
    "\n",
    "    # Calculate implied probabilities from bookmaker odds\n",
    "    df[\"implied_bookmakers_home_prob\"] = 1 / df[\"home_odds\"] / (\n",
    "        1 / df[\"home_odds\"] + 1 / df[\"away_odds\"]\n",
    "    )\n",
    "    df[\"implied_bookmakers_away_prob\"] = 1 - df[\"implied_bookmakers_home_prob\"]\n",
    "\n",
    "    # Model accuracy\n",
    "    df[\"correct_prediction\"] = df[\"result\"] == df[\"predicted_result\"]\n",
    "    accuracy = df[\"correct_prediction\"].mean()\n",
    "    results[\"model_accuracy\"] = accuracy\n",
    "\n",
    "    # Bookmaker accuracy\n",
    "    df[\"bookmaker_prediction\"] = np.where(\n",
    "        df[\"implied_bookmakers_home_prob\"] > df[\"implied_bookmakers_away_prob\"], \"H\", \"A\"\n",
    "    )\n",
    "    df[\"correct_bookmaker_prediction\"] = df[\"result\"] == df[\"bookmaker_prediction\"]\n",
    "    bookmaker_accuracy = df[\"correct_bookmaker_prediction\"].mean()\n",
    "    results[\"bookmaker_accuracy\"] = bookmaker_accuracy\n",
    "\n",
    "    # Baseline: home win percentage\n",
    "    home_win_percentage = (df[\"result\"] == \"H\").mean()\n",
    "    results[\"home_win_percentage\"] = home_win_percentage\n",
    "\n",
    "    # Brier score for model and bookmakers\n",
    "    brier_model = brier_score_loss((df[\"result\"] == \"H\").astype(int), df[\"home_win_probability\"])\n",
    "    brier_bookmaker = brier_score_loss((df[\"result\"] == \"H\").astype(int), df[\"implied_bookmakers_home_prob\"])\n",
    "    results[\"brier_score_model\"] = brier_model\n",
    "    results[\"brier_score_bookmaker\"] = brier_bookmaker\n",
    "\n",
    "    # Log-loss for model and bookmakers\n",
    "    logloss_model = log_loss((df[\"result\"] == \"H\").astype(int), df[\"home_win_probability\"])\n",
    "    logloss_bookmaker = log_loss((df[\"result\"] == \"H\").astype(int), df[\"implied_bookmakers_home_prob\"])\n",
    "    results[\"log_loss_model\"] = logloss_model\n",
    "    results[\"log_loss_bookmaker\"] = logloss_bookmaker\n",
    "\n",
    "    # Profit and ROI\n",
    "    total_profit = df[\"profit\"].sum()\n",
    "    total_bets = df[\"home_bet\"].sum() + df[\"away_bet\"].sum()\n",
    "    roi = (total_profit / total_bets) * 100 if total_bets > 0 else 0\n",
    "    results[\"total_profit\"] = total_profit\n",
    "    results[\"roi\"] = roi\n",
    "\n",
    "    # Additional metrics\n",
    "    results[\"total_matches\"] = len(df)\n",
    "    results[\"matches_bet_on\"] = len(df) - len(df[df['profit']==0])\n",
    "    results[\"total_bets\"] = total_bets\n",
    "#    results[\"average_bet_size\"] = total_bets / len(df) if len(df) > 0 else 0 # Depends on how you look at it.\n",
    "    results[\"average_bet_size\"] = total_bets / results[\"matches_bet_on\"] if results[\"matches_bet_on\"] > 0 else 0\n",
    "    results[\"profitable_bets\"] = (df[\"profit\"] > 0).sum()\n",
    "#    results[\"profitable_bets_percentage\"] = (results[\"profitable_bets\"] / len(df)) * 100 # Depends on how you look at it.\n",
    "    results[\"profitable_bets_percentage\"] = (results[\"profitable_bets\"] / results[\"matches_bet_on\"]) * 100\n",
    "\n",
    "    return results"
   ]
  },
  {
   "cell_type": "code",
   "execution_count": 21,
   "id": "e63337d6-1296-475d-89ef-387a14d8080c",
   "metadata": {},
   "outputs": [
    {
     "data": {
      "text/plain": [
       "{'model_accuracy': 0.5581132927104491,\n",
       " 'bookmaker_accuracy': 0.5716542541187091,\n",
       " 'home_win_percentage': 0.5206499661475965,\n",
       " 'brier_score_model': 0.24515332859404648,\n",
       " 'brier_score_bookmaker': 0.24190463153806918,\n",
       " 'log_loss_model': 0.6834340059423553,\n",
       " 'log_loss_bookmaker': 0.6766407563136515,\n",
       " 'total_profit': 7.294574577161278,\n",
       " 'roi': 1.949315404504727,\n",
       " 'total_matches': 4431,\n",
       " 'matches_bet_on': 3632,\n",
       " 'total_bets': 374.2121239233037,\n",
       " 'average_bet_size': 0.10303197244584353,\n",
       " 'profitable_bets': 1667,\n",
       " 'profitable_bets_percentage': 45.897577092511014}"
      ]
     },
     "execution_count": 21,
     "metadata": {},
     "output_type": "execute_result"
    }
   ],
   "source": [
    "# Usage\n",
    "analyse_prediction_performance(prediction_dataframe)"
   ]
  },
  {
   "cell_type": "markdown",
   "id": "a5ddf758-d846-444e-96b6-24aebbbb8ae9",
   "metadata": {},
   "source": [
    " "
   ]
  },
  {
   "cell_type": "markdown",
   "id": "6e1b1f9d-0949-4093-a218-d5807ce54ce5",
   "metadata": {},
   "source": [
    "For 799 out of 4431 available matches, the model did not place a bet on either side. This happens exactly when bookmakers' consensus aligns tightly with the model's prediction and thus Kelly's criterion does not find value in betting on either side (in large part, also because of the \"house edge\")."
   ]
  },
  {
   "cell_type": "markdown",
   "id": "cd2bc2a0-50f4-47c1-9994-ed1a377f4b02",
   "metadata": {},
   "source": [
    "It is worth noting that both our model and the bookmakers maintained about the same accuracy for the matches, on which we placed a bet."
   ]
  },
  {
   "cell_type": "code",
   "execution_count": 23,
   "id": "bf1998db-41ec-46d4-8cb0-d7668fc5615a",
   "metadata": {},
   "outputs": [],
   "source": [
    "prediction_dataframe_matches_considered = prediction_dataframe[prediction_dataframe[\"profit\"] !=0]"
   ]
  },
  {
   "cell_type": "code",
   "execution_count": 24,
   "id": "87137589-83f3-4539-b796-212ae9b133e5",
   "metadata": {},
   "outputs": [
    {
     "data": {
      "text/plain": [
       "0.5583700440528634"
      ]
     },
     "execution_count": 24,
     "metadata": {},
     "output_type": "execute_result"
    }
   ],
   "source": [
    "prediction_dataframe_matches_considered[\"correct_prediction\"].mean()"
   ]
  },
  {
   "cell_type": "code",
   "execution_count": 25,
   "id": "7a443929-e827-4880-8d95-1c294aafd125",
   "metadata": {},
   "outputs": [
    {
     "data": {
      "text/plain": [
       "0.575715859030837"
      ]
     },
     "execution_count": 25,
     "metadata": {},
     "output_type": "execute_result"
    }
   ],
   "source": [
    "prediction_dataframe_matches_considered[\"correct_bookmaker_prediction\"].mean()"
   ]
  },
  {
   "cell_type": "markdown",
   "id": "ab053fb0-b55f-44dc-864d-9453b62a4549",
   "metadata": {},
   "source": [
    "**Plotting the cumulative profit of the model**"
   ]
  },
  {
   "cell_type": "code",
   "execution_count": 26,
   "id": "abbd0a19-639d-4abc-87c1-fb2b96737a0a",
   "metadata": {},
   "outputs": [],
   "source": [
    "def plot_cumulative_profit(df):\n",
    "    \"\"\"\n",
    "    Plots the cumulative profit of the model.\n",
    "\n",
    "    Parameters:\n",
    "        df (pd.DataFrame): Dataframe containing prediction results and profit column.\n",
    "\n",
    "    Returns:\n",
    "        None: Displays the cumulative profit plot.\n",
    "    \"\"\"\n",
    "    # Reverse the dataframe for chronological order if needed\n",
    "    df_reversed = df.iloc[::-1].reset_index(drop=True)\n",
    "\n",
    "    # Calculate cumulative profit\n",
    "    df_reversed[\"Cumulative_Profit\"] = df_reversed[\"profit\"].cumsum()\n",
    "\n",
    "    # Plot cumulative profit\n",
    "    plt.figure(figsize=(10, 6))\n",
    "    plt.plot(df_reversed.index, df_reversed[\"Cumulative_Profit\"], label=\"Cumulative Profit\", linewidth=2)\n",
    "    plt.xlabel(\"Match\")\n",
    "    plt.ylabel(\"Cumulative Profit\")\n",
    "    plt.title(\"Cumulative Profit of the Model\")\n",
    "    plt.grid(True)\n",
    "    plt.legend()\n",
    "    plt.show()\n",
    "#    plt.savefig('cumulative_profit.png')"
   ]
  },
  {
   "cell_type": "code",
   "execution_count": 27,
   "id": "39dc2ecc-8580-4bce-88d1-c47b9eabe818",
   "metadata": {},
   "outputs": [
    {
     "data": {
      "image/png": "[encoded data removed]",
      "text/plain": [
       "<Figure size 1000x600 with 1 Axes>"
      ]
     },
     "metadata": {},
     "output_type": "display_data"
    }
   ],
   "source": [
    "# Usage\n",
    "plot_cumulative_profit(prediction_dataframe)"
   ]
  },
  {
   "cell_type": "markdown",
   "id": "da3cdd03-a7b5-4dac-83c3-dcae059287c5",
   "metadata": {},
   "source": [
    " "
   ]
  },
  {
   "cell_type": "markdown",
   "id": "cf453ced-2d54-46a4-9ebf-68ae6537e411",
   "metadata": {},
   "source": [
    "**Breaking down ROI by odds ranges** revealing possible overconfidence in clear underdogs. "
   ]
  },
  {
   "cell_type": "code",
   "execution_count": 28,
   "id": "43f3f144-1754-4631-90c7-1a9ae6b4dae7",
   "metadata": {},
   "outputs": [],
   "source": [
    "def analyse_roi_by_odds_range(df):\n",
    "    \"\"\"\n",
    "    Analyses ROI by odds range and prints results.\n",
    "\n",
    "    Parameters:\n",
    "        df (pd.DataFrame): Dataframe containing odds and profit columns.\n",
    "\n",
    "    Returns:\n",
    "        pd.DataFrame: Summary table of ROI by odds range.\n",
    "    \"\"\"\n",
    "    bins = [1.0, 1.5, 2.0, 3.0, 5.0, 10.0, 100.0]\n",
    "    labels = [\"1-1.5\", \"1.5-2\", \"2-3\", \"3-5\", \"5-10\", \"10+\"]\n",
    "    df[\"odds_range\"] = pd.cut(df[\"home_odds\"], bins=bins, labels=labels, right=False)\n",
    "\n",
    "    roi_summary = df.groupby(\"odds_range\", observed=True).apply(\n",
    "        lambda x: pd.Series({\n",
    "            \"total_bets\": x[\"home_bet\"].sum() + x[\"away_bet\"].sum(),\n",
    "            \"total_profit\": x[\"profit\"].sum(),\n",
    "            \"roi\": (x[\"profit\"].sum() / (x[\"home_bet\"].sum() + x[\"away_bet\"].sum()) * 100)\n",
    "            if (x[\"home_bet\"].sum() + x[\"away_bet\"].sum()) > 0 else 0\n",
    "        })\n",
    "    ).reset_index()\n",
    "\n",
    "    print(\"ROI by Odds Range:\")\n",
    "    print(roi_summary)\n",
    "    return roi_summary"
   ]
  },
  {
   "cell_type": "code",
   "execution_count": 29,
   "id": "486c322f-0dc1-49e7-94d3-619cf3a9642b",
   "metadata": {},
   "outputs": [
    {
     "name": "stdout",
     "output_type": "stream",
     "text": [
      "ROI by Odds Range:\n",
      "  odds_range  total_bets  total_profit       roi\n",
      "0      1-1.5   49.041573     -3.076164 -6.272564\n",
      "1      1.5-2  209.875752      5.519636  2.629954\n",
      "2        2-3  108.459558      4.420650  4.075851\n",
      "3        3-5    6.835241      0.430452  6.297545\n"
     ]
    }
   ],
   "source": [
    "# Usage\n",
    "roi_by_odds = analyse_roi_by_odds_range(prediction_dataframe)"
   ]
  },
  {
   "cell_type": "markdown",
   "id": "ae42e327-bbec-4aef-970e-67b4f064c857",
   "metadata": {},
   "source": [
    " "
   ]
  },
  {
   "cell_type": "markdown",
   "id": "6a15b781-79be-4679-bc86-67c1bfb914e6",
   "metadata": {},
   "source": [
    "**Plotting calibration curve for the model** again revealing inaccuracies for uneven matchups. "
   ]
  },
  {
   "cell_type": "code",
   "execution_count": 30,
   "id": "ec16069d-337a-4d5d-865c-199f6c8e9500",
   "metadata": {},
   "outputs": [],
   "source": [
    "def plot_calibration_curve(df):\n",
    "    \"\"\"\n",
    "    Plots the calibration curve for the model.\n",
    "\n",
    "    Parameters:\n",
    "        df (pd.DataFrame): Dataframe containing prediction probabilities and actual results.\n",
    "\n",
    "    Returns:\n",
    "        None: Displays the calibration curve plot.\n",
    "    \"\"\"\n",
    "    df[\"prediction_bin\"] = pd.cut(df[\"home_win_probability\"], bins=np.linspace(0, 1, 11), include_lowest=True)\n",
    "    calibration = df.groupby(\"prediction_bin\", observed=True).apply(\n",
    "        lambda x: pd.Series({\n",
    "            \"mean_predicted\": x[\"home_win_probability\"].mean(),\n",
    "            \"actual_win_rate\": (x[\"result\"] == \"H\").mean()\n",
    "        })\n",
    "    ).dropna()\n",
    "\n",
    "    plt.figure(figsize=(8, 6))\n",
    "    plt.plot(calibration[\"mean_predicted\"], calibration[\"actual_win_rate\"], marker=\"o\", label=\"Model\")\n",
    "    plt.plot([0, 1], [0, 1], linestyle=\"--\", color=\"gray\", label=\"Perfect Calibration\")\n",
    "    plt.xlabel(\"Predicted Win Probability\")\n",
    "    plt.ylabel(\"Actual Win Rate\")\n",
    "    plt.title(\"Calibration Curve\")\n",
    "    plt.legend()\n",
    "    plt.grid(True)\n",
    "    plt.show()\n",
    "#    plt.savefig('calibration_curve.png')"
   ]
  },
  {
   "cell_type": "code",
   "execution_count": 31,
   "id": "8a94b54d-ca2b-423d-8cfb-583d89bb1bdc",
   "metadata": {},
   "outputs": [
    {
     "data": {
      "image/png": "[encoded data removed]",
      "text/plain": [
       "<Figure size 800x600 with 1 Axes>"
      ]
     },
     "metadata": {},
     "output_type": "display_data"
    }
   ],
   "source": [
    "# Usage\n",
    "plot_calibration_curve(prediction_dataframe)"
   ]
  },
  {
   "cell_type": "markdown",
   "id": "16f4705f-d89c-4164-9178-2c9e626e4911",
   "metadata": {},
   "source": [
    "Note that the above analysis provides strong clues on how to calibrate or otherwise improve performance of the model, assuming this is indeed a persistent pattern on a larger scale. E.g. one could simply not place any bets when the model recommends betting on clear favourites."
   ]
  },
  {
   "cell_type": "markdown",
   "id": "0fd8c838-1503-496a-b0eb-d2a64bfba93f",
   "metadata": {},
   "source": [
    " "
   ]
  },
  {
   "cell_type": "markdown",
   "id": "e046f1ea-c4b6-4571-8d10-a6f81e37c20e",
   "metadata": {},
   "source": [
    "Given the somewhat periodic patterns in the cumulative profit plot, it is inviting to break down ROI by months (year_months). Based on the analysis, I do not see a clear pattern."
   ]
  },
  {
   "cell_type": "code",
   "execution_count": 32,
   "id": "1a499ce4-abc1-411b-a26c-ed3b476906a5",
   "metadata": {},
   "outputs": [],
   "source": [
    "def analyse_roi_by_month(df):\n",
    "    \"\"\"\n",
    "    Analyses ROI by month and prints results.\n",
    "\n",
    "    Parameters:\n",
    "        df (pd.DataFrame): Dataframe containing date and profit columns.\n",
    "\n",
    "    Returns:\n",
    "        pd.DataFrame: Summary table of ROI by month.\n",
    "    \"\"\"\n",
    "    # Ensure the formatted_date column is in datetime format\n",
    "    df[\"formatted_date\"] = pd.to_datetime(df[\"formatted_date\"])\n",
    "\n",
    "    # Extract the month and year from the formatted_date column\n",
    "    df[\"month_year\"] = df[\"formatted_date\"].dt.to_period(\"M\")\n",
    "\n",
    "    roi_summary = df.groupby(\"month_year\", observed=True).apply(\n",
    "        lambda x: pd.Series({\n",
    "            \"total_bets\": x[\"home_bet\"].sum() + x[\"away_bet\"].sum(),\n",
    "            \"total_profit\": x[\"profit\"].sum(),\n",
    "            \"roi\": (x[\"profit\"].sum() / (x[\"home_bet\"].sum() + x[\"away_bet\"].sum()) * 100)\n",
    "            if (x[\"home_bet\"].sum() + x[\"away_bet\"].sum()) > 0 else 0\n",
    "        })\n",
    "    ).reset_index()\n",
    "\n",
    "    print(\"ROI by Month:\")\n",
    "    print(roi_summary)\n",
    "    return roi_summary"
   ]
  },
  {
   "cell_type": "code",
   "execution_count": 33,
   "id": "4f5056be-5b13-4630-a5b7-0484e5f6265a",
   "metadata": {},
   "outputs": [
    {
     "name": "stdout",
     "output_type": "stream",
     "text": [
      "ROI by Month:\n",
      "   month_year  total_bets  total_profit        roi\n",
      "0     2023-05   31.223414      3.182466  10.192562\n",
      "1     2023-06   35.967555     -2.177829  -6.054981\n",
      "2     2023-07   35.459859      4.378042  12.346472\n",
      "3     2023-08   35.023168     -0.813305  -2.322193\n",
      "4     2023-09   31.452891     -0.277326  -0.881718\n",
      "5     2023-10    4.697263      1.533088  32.637896\n",
      "6     2023-11    3.603792      0.370648  10.284948\n",
      "7     2024-03    1.597635     -0.563340 -35.260887\n",
      "8     2024-04   34.484097      0.056223   0.163039\n",
      "9     2024-05   36.205717      3.903088  10.780309\n",
      "10    2024-06   31.833824     -0.863826  -2.713546\n",
      "11    2024-07   23.874466      0.926901   3.882395\n",
      "12    2024-08   36.713052     -0.735690  -2.003891\n",
      "13    2024-09   28.332207     -2.115323  -7.466143\n",
      "14    2024-10    3.743184      0.490758  13.110705\n"
     ]
    }
   ],
   "source": [
    "# Usage\n",
    "roi_by_month = analyse_roi_by_month(prediction_dataframe)"
   ]
  },
  {
   "cell_type": "markdown",
   "id": "da7faf80-cbb1-4108-aa2c-4ce562117954",
   "metadata": {},
   "source": [
    " "
   ]
  },
  {
   "cell_type": "markdown",
   "id": "e5ba2541-7a5f-40d3-a17a-40d3d8da851d",
   "metadata": {},
   "source": [
    "Also by calendar months."
   ]
  },
  {
   "cell_type": "code",
   "execution_count": 34,
   "id": "359247f6-810b-4952-b25c-3e6f30ac9e25",
   "metadata": {},
   "outputs": [],
   "source": [
    "def analyse_roi_by_month_only(df):\n",
    "    \"\"\"\n",
    "    Analyses ROI by calendar month (ignoring year) and prints results.\n",
    "\n",
    "    Parameters:\n",
    "        df (pd.DataFrame): Dataframe containing date and profit columns.\n",
    "\n",
    "    Returns:\n",
    "        pd.DataFrame: Summary table of ROI by calendar month.\n",
    "    \"\"\"\n",
    "    # Ensure the formatted_date column is in datetime format\n",
    "    df[\"formatted_date\"] = pd.to_datetime(df[\"formatted_date\"])\n",
    "\n",
    "    # Extract the month from the formatted_date column\n",
    "    df[\"month\"] = df[\"formatted_date\"].dt.month\n",
    "\n",
    "    roi_summary = df.groupby(\"month\", observed=True).apply(\n",
    "        lambda x: pd.Series({\n",
    "            \"total_bets\": x[\"home_bet\"].sum() + x[\"away_bet\"].sum(),\n",
    "            \"total_profit\": x[\"profit\"].sum(),\n",
    "            \"roi\": (x[\"profit\"].sum() / (x[\"home_bet\"].sum() + x[\"away_bet\"].sum()) * 100)\n",
    "            if (x[\"home_bet\"].sum() + x[\"away_bet\"].sum()) > 0 else 0\n",
    "        })\n",
    "    ).reset_index()\n",
    "\n",
    "    print(\"ROI by Calendar Month:\")\n",
    "    print(roi_summary)\n",
    "    return roi_summary"
   ]
  },
  {
   "cell_type": "code",
   "execution_count": 35,
   "id": "eacd524f-e36b-443d-a2c2-039e73e06911",
   "metadata": {},
   "outputs": [
    {
     "name": "stdout",
     "output_type": "stream",
     "text": [
      "ROI by Calendar Month:\n",
      "   month  total_bets  total_profit        roi\n",
      "0      3    1.597635     -0.563340 -35.260887\n",
      "1      4   34.484097      0.056223   0.163039\n",
      "2      5   67.429131      7.085554  10.508150\n",
      "3      6   67.801378     -3.041654  -4.486124\n",
      "4      7   59.334325      5.304943   8.940765\n",
      "5      8   71.736220     -1.548995  -2.159293\n",
      "6      9   59.785098     -2.392649  -4.002082\n",
      "7     10    8.440447      2.023846  23.977943\n",
      "8     11    3.603792      0.370648  10.284948\n"
     ]
    }
   ],
   "source": [
    "# Usage\n",
    "roi_by_calendar_month = analyse_roi_by_month_only(prediction_dataframe)"
   ]
  }
 ],
 "metadata": {
  "kernelspec": {
   "display_name": "Python 3 (ipykernel)",
   "language": "python",
   "name": "python3"
  },
  "language_info": {
   "codemirror_mode": {
    "name": "ipython",
    "version": 3
   },
   "file_extension": ".py",
   "mimetype": "text/x-python",
   "name": "python",
   "nbconvert_exporter": "python",
   "pygments_lexer": "ipython3",
   "version": "3.10.11"
  }
 },
 "nbformat": 4,
 "nbformat_minor": 5
}
